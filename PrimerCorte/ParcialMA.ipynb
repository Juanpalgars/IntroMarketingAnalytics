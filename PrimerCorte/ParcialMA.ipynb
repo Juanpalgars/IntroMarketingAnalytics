{
  "cells": [
    {
      "cell_type": "markdown",
      "metadata": {
        "id": "favnf6_vZHN1"
      },
      "source": [
        "# Análisis de Datos de Seguros - Enfoque Step-by-Step y Caso de Negocio\n",
        "\n",
        "Este notebook está diseñado para que resuelvas problemas paso a paso utilizando Python (usando funciones básicas como .mean(), filtros, value_counts y groupby) y que puedas comparar los resultados con el objetivo propuesto. Además, se plantea un caso de negocio ficticio en el que se asigna un gasto en marketing (CAC) para evaluar la rentabilidad y tomar decisiones estratégicas.\n",
        "\n",
        "El objetivo es evaluar tu habilidad para:\n",
        "- Explorar y analizar datos en Python.\n",
        "- Resolver problemas de análisis paso a paso.\n",
        "- Comparar resultados con objetivos estratégicos.\n",
        "- Formular conclusiones y recomendaciones basadas en los datos.\n",
        "\n",
        "¡Comencemos!"
      ]
    },
    {
      "cell_type": "code",
      "source": [
        "!wget https://github.com/javierherrera1996/IntroMarketingAnalytics/raw/refs/heads/main/PrimerCorte/WA_Fn-UseC_-Marketing-Customer-Value-Analysis.csv.zip\n",
        "!unzip WA_Fn-UseC_-Marketing-Customer-Value-Analysis.csv.zip"
      ],
      "metadata": {
        "colab": {
          "base_uri": "https://localhost:8080/"
        },
        "id": "-Uz11EAcZJMF",
        "outputId": "fecabfa7-6fb2-42f9-cba6-b029e33a53db"
      },
      "execution_count": 1,
      "outputs": [
        {
          "output_type": "stream",
          "name": "stdout",
          "text": [
            "--2025-03-12 23:08:21--  https://github.com/javierherrera1996/IntroMarketingAnalytics/raw/refs/heads/main/PrimerCorte/WA_Fn-UseC_-Marketing-Customer-Value-Analysis.csv.zip\n",
            "Resolving github.com (github.com)... 140.82.114.4\n",
            "Connecting to github.com (github.com)|140.82.114.4|:443... connected.\n",
            "HTTP request sent, awaiting response... 302 Found\n",
            "Location: https://raw.githubusercontent.com/javierherrera1996/IntroMarketingAnalytics/refs/heads/main/PrimerCorte/WA_Fn-UseC_-Marketing-Customer-Value-Analysis.csv.zip [following]\n",
            "--2025-03-12 23:08:21--  https://raw.githubusercontent.com/javierherrera1996/IntroMarketingAnalytics/refs/heads/main/PrimerCorte/WA_Fn-UseC_-Marketing-Customer-Value-Analysis.csv.zip\n",
            "Resolving raw.githubusercontent.com (raw.githubusercontent.com)... 185.199.108.133, 185.199.109.133, 185.199.110.133, ...\n",
            "Connecting to raw.githubusercontent.com (raw.githubusercontent.com)|185.199.108.133|:443... connected.\n",
            "HTTP request sent, awaiting response... 200 OK\n",
            "Length: 352796 (345K) [application/zip]\n",
            "Saving to: ‘WA_Fn-UseC_-Marketing-Customer-Value-Analysis.csv.zip’\n",
            "\n",
            "WA_Fn-UseC_-Marketi 100%[===================>] 344.53K  --.-KB/s    in 0.05s   \n",
            "\n",
            "2025-03-12 23:08:21 (7.43 MB/s) - ‘WA_Fn-UseC_-Marketing-Customer-Value-Analysis.csv.zip’ saved [352796/352796]\n",
            "\n",
            "Archive:  WA_Fn-UseC_-Marketing-Customer-Value-Analysis.csv.zip\n",
            "  inflating: WA_Fn-UseC_-Marketing-Customer-Value-Analysis.csv  \n"
          ]
        }
      ]
    },
    {
      "cell_type": "markdown",
      "metadata": {
        "id": "rue7hNYKZHN4"
      },
      "source": [
        "## Paso 1: Exploración Inicial del Dataset\n",
        "1. Carga el dataset `WA_Fn-UseC_-Marketing-Customer-Value-Analysis.csv`.\n",
        "2. Revisa las primeras filas, dimensiones y la información general del dataset.\n",
        "\n",
        "_Observa la estructura de los datos: ¿Qué columnas tienes? ¿Se nota algún dato atípico?_"
      ]
    },
    {
      "cell_type": "code",
      "execution_count": 3,
      "metadata": {
        "id": "kFhepnyQZHN5",
        "outputId": "507b4950-61e9-4514-f4a7-ecf678b9b556",
        "colab": {
          "base_uri": "https://localhost:8080/"
        }
      },
      "outputs": [
        {
          "output_type": "stream",
          "name": "stdout",
          "text": [
            "  Customer       State  Customer Lifetime Value Response  Coverage Education  \\\n",
            "0  BU79786  Washington              2763.519279       No     Basic  Bachelor   \n",
            "1  QZ44356     Arizona              6979.535903       No  Extended  Bachelor   \n",
            "2  AI49188      Nevada             12887.431650       No   Premium  Bachelor   \n",
            "3  WW63253  California              7645.861827       No     Basic  Bachelor   \n",
            "4  HB64268  Washington              2813.692575       No     Basic  Bachelor   \n",
            "\n",
            "  Effective To Date EmploymentStatus Gender  Income Location Code  \\\n",
            "0           2/24/11         Employed      F   56274      Suburban   \n",
            "1           1/31/11       Unemployed      F       0      Suburban   \n",
            "2           2/19/11         Employed      F   48767      Suburban   \n",
            "3           1/20/11       Unemployed      M       0      Suburban   \n",
            "4            2/3/11         Employed      M   43836         Rural   \n",
            "\n",
            "  Marital Status  Monthly Premium Auto  Months Since Last Claim  \\\n",
            "0        Married                    69                       32   \n",
            "1         Single                    94                       13   \n",
            "2        Married                   108                       18   \n",
            "3        Married                   106                       18   \n",
            "4         Single                    73                       12   \n",
            "\n",
            "   Months Since Policy Inception  Number of Open Complaints  \\\n",
            "0                              5                          0   \n",
            "1                             42                          0   \n",
            "2                             38                          0   \n",
            "3                             65                          0   \n",
            "4                             44                          0   \n",
            "\n",
            "   Number of Policies     Policy Type        Policy Renew Offer Type  \\\n",
            "0                   1  Corporate Auto  Corporate L3           Offer1   \n",
            "1                   8   Personal Auto   Personal L3           Offer3   \n",
            "2                   2   Personal Auto   Personal L3           Offer1   \n",
            "3                   7  Corporate Auto  Corporate L2           Offer1   \n",
            "4                   1   Personal Auto   Personal L1           Offer1   \n",
            "\n",
            "  Sales Channel  Total Claim Amount  Vehicle Class Vehicle Size  \n",
            "0         Agent          384.811147   Two-Door Car      Medsize  \n",
            "1         Agent         1131.464935  Four-Door Car      Medsize  \n",
            "2         Agent          566.472247   Two-Door Car      Medsize  \n",
            "3   Call Center          529.881344            SUV      Medsize  \n",
            "4         Agent          138.130879  Four-Door Car      Medsize  \n",
            "(9134, 24)\n",
            "<class 'pandas.core.frame.DataFrame'>\n",
            "RangeIndex: 9134 entries, 0 to 9133\n",
            "Data columns (total 24 columns):\n",
            " #   Column                         Non-Null Count  Dtype  \n",
            "---  ------                         --------------  -----  \n",
            " 0   Customer                       9134 non-null   object \n",
            " 1   State                          9134 non-null   object \n",
            " 2   Customer Lifetime Value        9134 non-null   float64\n",
            " 3   Response                       9134 non-null   object \n",
            " 4   Coverage                       9134 non-null   object \n",
            " 5   Education                      9134 non-null   object \n",
            " 6   Effective To Date              9134 non-null   object \n",
            " 7   EmploymentStatus               9134 non-null   object \n",
            " 8   Gender                         9134 non-null   object \n",
            " 9   Income                         9134 non-null   int64  \n",
            " 10  Location Code                  9134 non-null   object \n",
            " 11  Marital Status                 9134 non-null   object \n",
            " 12  Monthly Premium Auto           9134 non-null   int64  \n",
            " 13  Months Since Last Claim        9134 non-null   int64  \n",
            " 14  Months Since Policy Inception  9134 non-null   int64  \n",
            " 15  Number of Open Complaints      9134 non-null   int64  \n",
            " 16  Number of Policies             9134 non-null   int64  \n",
            " 17  Policy Type                    9134 non-null   object \n",
            " 18  Policy                         9134 non-null   object \n",
            " 19  Renew Offer Type               9134 non-null   object \n",
            " 20  Sales Channel                  9134 non-null   object \n",
            " 21  Total Claim Amount             9134 non-null   float64\n",
            " 22  Vehicle Class                  9134 non-null   object \n",
            " 23  Vehicle Size                   9134 non-null   object \n",
            "dtypes: float64(2), int64(6), object(16)\n",
            "memory usage: 1.7+ MB\n",
            "None\n"
          ]
        }
      ],
      "source": [
        "# Cargar el dataset y ver primeras filas\n",
        "import pandas as pd\n",
        "import numpy as np\n",
        "\n",
        "df = pd.read_csv('WA_Fn-UseC_-Marketing-Customer-Value-Analysis.csv')\n",
        "pd.set_option('display.max_columns', None)\n",
        "print(df.head())\n",
        "print(df.shape)\n",
        "print(df.info())"
      ]
    },
    {
      "cell_type": "markdown",
      "metadata": {
        "id": "QfxdKxY6ZHN5"
      },
      "source": [
        "## Paso 2: Análisis del Customer Lifetime Value (CLV)\n",
        "1. Calcula el CLV promedio y su desviación estándar.\n",
        "2. Reflexiona: ¿Qué indica una alta desviación? ¿Podrían existir segmentos de clientes con comportamientos muy distintos?"
      ]
    },
    {
      "cell_type": "markdown",
      "source": [],
      "metadata": {
        "id": "hw3xjpzHqLXm"
      }
    },
    {
      "cell_type": "markdown",
      "source": [
        "Cuando el CLV muestra una alta dispersión significa que los clientes se comportan de formas muy distintas. para aumentar las ganancias, es fundamentall comprender y segmentar a estos grupos"
      ],
      "metadata": {
        "id": "l53E45tA8PSZ"
      }
    },
    {
      "cell_type": "code",
      "execution_count": 5,
      "metadata": {
        "id": "BH6qM6SwZHN6",
        "outputId": "d2e62236-9c32-489f-a4c9-fabea70a686e",
        "colab": {
          "base_uri": "https://localhost:8080/"
        }
      },
      "outputs": [
        {
          "output_type": "stream",
          "name": "stdout",
          "text": [
            "CLV promedio: 8004.940474987081\n",
            "Desviación estándar: 6870.967608356924\n"
          ]
        }
      ],
      "source": [
        "clv_promedio = df['Customer Lifetime Value'].mean()\n",
        "desviacion_estandar = df['Customer Lifetime Value'].std()\n",
        "\n",
        "print(f\"CLV promedio: {clv_promedio}\")\n",
        "print(f\"Desviación estándar: {desviacion_estandar}\")"
      ]
    },
    {
      "cell_type": "markdown",
      "metadata": {
        "id": "3Dh1dhJ9ZHN6"
      },
      "source": [
        "## Paso 3: Evaluación de la Columna Response\n",
        "1. Usa `value_counts()` para ver cuántos clientes respondieron \"Yes\" y \"No\".\n",
        "2. Calcula el porcentaje de respuestas \"Yes\".\n",
        "\n",
        "Pregunta: ¿La proporción de \"Yes\" es baja? ¿Qué podría indicar esto respecto a la estrategia de respuesta?"
      ]
    },
    {
      "cell_type": "markdown",
      "source": [],
      "metadata": {
        "id": "4hTyZ9ec9aTI"
      }
    },
    {
      "cell_type": "markdown",
      "source": [
        "Se presentan pocos \"yes\", lo que indica que la estrategia de respuesta necesita mejoras"
      ],
      "metadata": {
        "id": "-52hQ-ZfAQ2T"
      }
    },
    {
      "cell_type": "code",
      "execution_count": 10,
      "metadata": {
        "id": "UlKtfgUGZHN7",
        "outputId": "708afcd3-d60e-4b0b-c0ff-fd54e1b4cbad",
        "colab": {
          "base_uri": "https://localhost:8080/"
        }
      },
      "outputs": [
        {
          "output_type": "stream",
          "name": "stdout",
          "text": [
            "Response\n",
            "No     7826\n",
            "Yes    1308\n",
            "Name: count, dtype: int64\n",
            "El porcentaje de respuestas 'Yes' es: 14.32%\n"
          ]
        }
      ],
      "source": [
        "value_counts = df['Response'].value_counts()\n",
        "print(value_counts)\n",
        "\n",
        "porcentaje_yes = (value_counts['Yes'] / df.shape[0]) * 100\n",
        "print(f\"El porcentaje de respuestas 'Yes' es: {porcentaje_yes:.2f}%\")\n",
        "\n"
      ]
    },
    {
      "cell_type": "markdown",
      "metadata": {
        "id": "5Gl7vEKyZHN7"
      },
      "source": [
        "## Paso 4: Análisis de la Prima Mensual (Monthly Premium Auto) por Coverage\n",
        "1. Agrupa los datos por `Coverage` y calcula la media de `Monthly Premium Auto`.\n",
        "2. Compara los promedios obtenidos para cada tipo de Coverage.\n",
        "\n",
        "Pregunta: ¿Existen diferencias notables entre las coberturas? ¿Qué implicaciones tendría esto en la estrategia de precios?"
      ]
    },
    {
      "cell_type": "markdown",
      "source": [
        "Si existen diferencias notables entre las coberturas, las implicaciones que se reflejan en la estrategia de precios, es segmentar los servicios que ofrecen, dependiendo las categorias, y asi mismo segmentar el publico objetivo, para que cada uno se alinee a la categoria de preferencia"
      ],
      "metadata": {
        "id": "CvL4UxEMBW1w"
      }
    },
    {
      "cell_type": "code",
      "execution_count": 40,
      "metadata": {
        "id": "yzGcyR52ZHN8",
        "outputId": "f1d4b675-e1f9-4402-ac64-c5434c9866e6",
        "colab": {
          "base_uri": "https://localhost:8080/"
        }
      },
      "outputs": [
        {
          "output_type": "stream",
          "name": "stdout",
          "text": [
            "Coverage\n",
            "Basic        82.173851\n",
            "Extended    103.579504\n",
            "Premium     133.381068\n",
            "Name: Monthly Premium Auto, dtype: float64\n"
          ]
        }
      ],
      "source": [
        "prima_mensual_por_cobertura = df.groupby('Coverage')['Monthly Premium Auto'].mean()\n",
        "print(prima_mensual_por_cobertura)\n",
        "\n"
      ]
    },
    {
      "cell_type": "markdown",
      "metadata": {
        "id": "UFsiRIveZHN8"
      },
      "source": [
        "## Paso 5: Análisis del Ingreso (Income) según EmploymentStatus\n",
        "1. Agrupa los datos por `EmploymentStatus` y calcula el ingreso promedio.\n",
        "\n",
        "Pregunta: ¿Qué diferencias encuentras entre los grupos? ¿Cómo podría influir esto en la segmentación de clientes?"
      ]
    },
    {
      "cell_type": "markdown",
      "source": [
        "Los ingresos varian entre grupos laborales, por lo que es esencial segmentar a los clientes para adoptar las estrategias de venta, esto con el fin de atender las necesidades de cada cliente de manera satisfactoria"
      ],
      "metadata": {
        "id": "q6LX6lisB1N8"
      }
    },
    {
      "cell_type": "code",
      "execution_count": 16,
      "metadata": {
        "id": "KBd4a5TGZHN9",
        "outputId": "771c55e0-47e8-4398-a28f-e14b66a83bb1",
        "colab": {
          "base_uri": "https://localhost:8080/"
        }
      },
      "outputs": [
        {
          "output_type": "stream",
          "name": "stdout",
          "text": [
            "EmploymentStatus\n",
            "Disabled         20045.582716\n",
            "Employed         56384.884521\n",
            "Medical Leave    20292.770833\n",
            "Retired          20554.960993\n",
            "Unemployed           0.000000\n",
            "Name: Income, dtype: float64\n"
          ]
        }
      ],
      "source": [
        "ingreso_promedio= df.groupby('EmploymentStatus')['Income'].mean()\n",
        "print(ingreso_promedio)"
      ]
    },
    {
      "cell_type": "markdown",
      "metadata": {
        "id": "opvexkf8ZHN9"
      },
      "source": [
        "## Paso 6: Análisis del CLV por Estado\n",
        "1. Agrupa los datos por `State` y calcula el CLV promedio.\n",
        "\n",
        "Pregunta: ¿Qué estado muestra el mayor CLV? ¿Qué factores regionales podrían explicar esto?"
      ]
    },
    {
      "cell_type": "markdown",
      "source": [
        "El estado con mayor CLV es oregon, un factor regional que puede influir es que en Estados con menos población pueden tener clientes más leales debido a una menor competencia o a una relación más cercana con los agentes de seguro"
      ],
      "metadata": {
        "id": "SOyqU1J3CXSb"
      }
    },
    {
      "cell_type": "code",
      "execution_count": 20,
      "metadata": {
        "id": "jHYjEGLXZHN9",
        "outputId": "13172d7c-8e71-4000-8f0b-2b109031ff90",
        "colab": {
          "base_uri": "https://localhost:8080/"
        }
      },
      "outputs": [
        {
          "output_type": "stream",
          "name": "stdout",
          "text": [
            "State\n",
            "Arizona       7861.341489\n",
            "California    8003.647758\n",
            "Nevada        8056.706839\n",
            "Oregon        8077.901191\n",
            "Washington    8021.472273\n",
            "Name: Customer Lifetime Value, dtype: float64\n"
          ]
        }
      ],
      "source": [
        "State = df.groupby('State')['Customer Lifetime Value'].mean()\n",
        "print(State)\n"
      ]
    },
    {
      "cell_type": "markdown",
      "metadata": {
        "id": "r20lS6w2ZHN9"
      },
      "source": [
        "## Paso 7: Análisis del Total Claim Amount según el Número de Pólizas\n",
        "1. Separa a los clientes con más de 1 póliza de aquellos con 1 sola póliza.\n",
        "2. Calcula el Total Claim Amount promedio para cada grupo.\n",
        "\n",
        "Pregunta: ¿Qué diferencias encuentras y qué podrían indicar respecto al riesgo y comportamiento de reclamaciones?"
      ]
    },
    {
      "cell_type": "markdown",
      "source": [
        "Se encuentran clientes que presentan mas reclamos al tener una sola poliza, al mostrar un comportamiento diferente quienes tienen mas de una poliza, se puede inferir que estan satisfechos con el servicio adquirido, mostrando actitudes de fidelidad"
      ],
      "metadata": {
        "id": "C0n6TPosDpL8"
      }
    },
    {
      "cell_type": "code",
      "execution_count": 25,
      "metadata": {
        "id": "oV66YptbZHN9",
        "outputId": "0f96669b-eb36-4fc0-b5c5-f8c99ae21773",
        "colab": {
          "base_uri": "https://localhost:8080/"
        }
      },
      "outputs": [
        {
          "output_type": "stream",
          "name": "stdout",
          "text": [
            "Claim promedio para clientes con más de 1 póliza: 430.6682882804692\n",
            "Claim promedio para clientes con 1 póliza: 440.2785319286374\n"
          ]
        }
      ],
      "source": [
        "clientes_multiples_polizas = df[df['Number of Policies'] > 1]\n",
        "clientes_una_poliza = df[df['Number of Policies'] == 1]\n",
        "\n",
        "\n",
        "claim_promedio_multiples_polizas = clientes_multiples_polizas['Total Claim Amount'].mean()\n",
        "claim_promedio_una_poliza = clientes_una_poliza['Total Claim Amount'].mean()\n",
        "\n",
        "print(f\"Claim promedio para clientes con más de 1 póliza: {claim_promedio_multiples_polizas}\")\n",
        "print(f\"Claim promedio para clientes con 1 póliza: {claim_promedio_una_poliza}\")"
      ]
    },
    {
      "cell_type": "markdown",
      "metadata": {
        "id": "vtiPHUZiZHN-"
      },
      "source": [
        "## Paso 8: Análisis del CLV según Vehicle Class\n",
        "1. Agrupa los datos por `Vehicle Class` y calcula el CLV promedio para cada clase.\n",
        "\n",
        "Pregunta: ¿Qué clase de vehículo se asocia a un mayor CLV y qué implicaciones podría tener esto en la estrategia de producto?"
      ]
    },
    {
      "cell_type": "markdown",
      "source": [
        "Se muestra que la categoria que mustra mayor CLV es el Luxury SUV, claramente al ser una categoria de lujo, tiene implicaciones directas en el servicio como el costo de la poliza, a mayor lujo del carro, mayor costo en unna poliza, esto podria aprovecharse para conseguir mas ganancias con esta categoria."
      ],
      "metadata": {
        "id": "SwCwpo1GFCvj"
      }
    },
    {
      "cell_type": "code",
      "execution_count": 28,
      "metadata": {
        "id": "LdzNouGbZHN-",
        "outputId": "571e311f-33cc-4520-9fe4-95d5c059f0e2",
        "colab": {
          "base_uri": "https://localhost:8080/"
        }
      },
      "outputs": [
        {
          "output_type": "stream",
          "name": "stdout",
          "text": [
            "Vehicle Class\n",
            "Four-Door Car     6631.726607\n",
            "Luxury Car       17053.348399\n",
            "Luxury SUV       17122.999134\n",
            "SUV              10443.511816\n",
            "Sports Car       10750.989331\n",
            "Two-Door Car      6671.030732\n",
            "Name: Customer Lifetime Value, dtype: float64\n",
            "La clase de vehículo con el mayor CLV es: Luxury SUV\n"
          ]
        }
      ],
      "source": [
        "vehicle_class_clv = df.groupby('Vehicle Class')['Customer Lifetime Value'].mean()\n",
        "print(vehicle_class_clv)\n",
        "\n",
        "clase_mayor_clv = vehicle_class_clv.idxmax()\n",
        "print(f\"La clase de vehículo con el mayor CLV es: {clase_mayor_clv}\")"
      ]
    },
    {
      "cell_type": "markdown",
      "metadata": {
        "id": "VCd_L8qhZHN-"
      },
      "source": [
        "## Paso 9: Análisis de Months Since Last Claim según Education\n",
        "1. Agrupa los datos por `Education` y calcula el promedio de `Months Since Last Claim`.\n",
        "\n",
        "Pregunta: ¿Existen diferencias notables entre los niveles educativos? ¿Qué podría indicar sobre la gestión de reclamos?"
      ]
    },
    {
      "cell_type": "markdown",
      "source": [
        "No existen diferencias notables dentro de esta variable, por lo cual no se podria definir de una manera marcada como esta variable puede influir en la gestion de reclamos"
      ],
      "metadata": {
        "id": "WbuiD8dzFkpy"
      }
    },
    {
      "cell_type": "code",
      "execution_count": 29,
      "metadata": {
        "id": "D7AIwvBOZHN-",
        "outputId": "ca4c0994-cdee-4904-83e3-42b2784f8aa7",
        "colab": {
          "base_uri": "https://localhost:8080/"
        }
      },
      "outputs": [
        {
          "output_type": "stream",
          "name": "stdout",
          "text": [
            "Education\n",
            "Bachelor                14.834789\n",
            "College                 15.432301\n",
            "Doctor                  15.260234\n",
            "High School or Below    14.978642\n",
            "Master                  15.199730\n",
            "Name: Months Since Last Claim, dtype: float64\n",
            "El promedio de 'Months Since Last Claim' es: 15.141139317581025\n"
          ]
        }
      ],
      "source": [
        "education_months_since_last_claim = df.groupby('Education')['Months Since Last Claim'].mean()\n",
        "print(education_months_since_last_claim)\n",
        "promedio_montgths_since_last_claim = education_months_since_last_claim.mean()\n",
        "print(f\"El promedio de 'Months Since Last Claim' es: {promedio_montgths_since_last_claim}\")"
      ]
    },
    {
      "cell_type": "markdown",
      "metadata": {
        "id": "cQfegNw8ZHN-"
      },
      "source": [
        "## Paso 10: Análisis del Income según Marital Status y Gender\n",
        "1. Realiza una segmentación cruzada agrupando por `Marital Status` y `Gender` para calcular el ingreso promedio.\n",
        "\n",
        "Pregunta: ¿Qué diferencias observas? ¿Cómo podrían influir estas diferencias en la estrategia de segmentación de clientes?"
      ]
    },
    {
      "cell_type": "markdown",
      "source": [
        "Se marca una diferencia notable entre la categoria \"solteros\" con casados y divorciados, esta segmentacion notable permitira a la empresa adaptar sus estrategias de marketing y ventas para sastisfacer las necesidades especificas de los segmentos que representan mayores ingresos, de igual manera, puede ser una oportunidad, para crear estrategias con el fin de atrapar mas clientes en de la variable solteros"
      ],
      "metadata": {
        "id": "fVijJDbbF1dg"
      }
    },
    {
      "cell_type": "code",
      "execution_count": 31,
      "metadata": {
        "id": "ZlHKlPVjZHN-",
        "outputId": "45283e12-fc1c-4f40-b091-986d488cadb0",
        "colab": {
          "base_uri": "https://localhost:8080/"
        }
      },
      "outputs": [
        {
          "output_type": "stream",
          "name": "stdout",
          "text": [
            "Marital Status  Gender\n",
            "Divorced        F         37913.709450\n",
            "                M         43681.934848\n",
            "Married         F         44276.994962\n",
            "                M         43304.110361\n",
            "Single          F         23573.758120\n",
            "                M         22005.776407\n",
            "Name: Income, dtype: float64\n",
            "El ingreso promedio es: 35792.71402477281\n"
          ]
        }
      ],
      "source": [
        "marital_status_gender_income = df.groupby(['Marital Status', 'Gender'])['Income'].mean()\n",
        "print(marital_status_gender_income)\n",
        "ingreso_promedio = marital_status_gender_income.mean()\n",
        "print(f\"El ingreso promedio es: {ingreso_promedio}\")"
      ]
    },
    {
      "cell_type": "markdown",
      "metadata": {
        "id": "qbvaFaJqZHN-"
      },
      "source": [
        "## Paso 11: Distribución de la Columna Response\n",
        "1. Usa `value_counts()` para mostrar cuántos clientes hay en cada grupo de Response.\n",
        "\n",
        "Pregunta: ¿La distribución de respuestas sugiere que se debe ajustar la estrategia de comunicación?"
      ]
    },
    {
      "cell_type": "markdown",
      "source": [
        "\n",
        "\n",
        "Al contar con baja cantidad de \"yes\" se muestra que no hay efectividad con la estrategia de comunicacion, por lo cual se sugiere el cambio de la misma"
      ],
      "metadata": {
        "id": "Bd2P9XgWGfAj"
      }
    },
    {
      "cell_type": "code",
      "execution_count": 33,
      "metadata": {
        "id": "p5KLnw5oZHN-",
        "outputId": "3b1bd45b-8789-492c-872f-8355a9ab0143",
        "colab": {
          "base_uri": "https://localhost:8080/"
        }
      },
      "outputs": [
        {
          "output_type": "stream",
          "name": "stdout",
          "text": [
            "Response\n",
            "No     7826\n",
            "Yes    1308\n",
            "Name: count, dtype: int64\n",
            "total_response\n"
          ]
        }
      ],
      "source": [
        "value_counts = df['Response'].value_counts()\n",
        "print(value_counts)\n"
      ]
    },
    {
      "cell_type": "markdown",
      "metadata": {
        "id": "R6SPMEuMZHN_"
      },
      "source": [
        "## Paso 12: Análisis de Quejas Abiertas por Coverage\n",
        "1. Agrupa los datos por `Coverage` y calcula el número promedio de quejas abiertas (`Number of Open Complaints`).\n",
        "\n",
        "Pregunta: ¿Existen coberturas con un número de quejas significativamente mayor? ¿Qué acciones se podrían tomar?"
      ]
    },
    {
      "cell_type": "markdown",
      "source": [
        "Aunque las quejas son similares entre coberturas, extended destaca por un promedio levemente superior, señalando la necesidad de analizar y optimizar la cobertura y la satisfacción"
      ],
      "metadata": {
        "id": "r69vpwrnG39B"
      }
    },
    {
      "cell_type": "code",
      "execution_count": 35,
      "metadata": {
        "id": "6rIalm7TZHN_",
        "outputId": "fd4fa619-c857-47aa-9411-74dd608a4410",
        "colab": {
          "base_uri": "https://localhost:8080/"
        }
      },
      "outputs": [
        {
          "output_type": "stream",
          "name": "stdout",
          "text": [
            "Coverage\n",
            "Basic       0.384698\n",
            "Extended    0.398979\n",
            "Premium     0.333738\n",
            "Name: Number of Open Complaints, dtype: float64\n",
            "El promedio de 'Number of Open Complaints' es: 0.3724716624987557\n"
          ]
        }
      ],
      "source": [
        "coverage_open_complaints = df.groupby('Coverage')['Number of Open Complaints'].mean()\n",
        "print(coverage_open_complaints)\n",
        "\n",
        "promedio_number_of_open_complaints = coverage_open_complaints.mean()\n",
        "print(f\"El promedio de 'Number of Open Complaints' es: {promedio_number_of_open_complaints}\")"
      ]
    },
    {
      "cell_type": "markdown",
      "metadata": {
        "id": "d7wQ2NncZHN_"
      },
      "source": [
        "## Paso 13: Análisis de la Antigüedad de las Pólizas según EmploymentStatus\n",
        "1. Agrupa por `EmploymentStatus` y calcula el promedio de `Months Since Policy Inception`.\n",
        "\n",
        "Pregunta: ¿Existe alguna relación entre el estado laboral y la antigüedad de las pólizas? ¿Qué podría implicar esto en la estabilidad del cliente?"
      ]
    },
    {
      "cell_type": "markdown",
      "source": [
        "La antiguedad de las polizas no varia significativamente segun el estado laboral, por lo que lla empresa debe enfocarse en otros factores para mejorar la fidelidad del cliente"
      ],
      "metadata": {
        "id": "YiyQlM3QHSH-"
      }
    },
    {
      "cell_type": "code",
      "execution_count": 36,
      "metadata": {
        "id": "3DvT3EAnZHN_",
        "outputId": "38dc3777-715b-4248-9b1a-421ae00bd98e",
        "colab": {
          "base_uri": "https://localhost:8080/"
        }
      },
      "outputs": [
        {
          "output_type": "stream",
          "name": "stdout",
          "text": [
            "EmploymentStatus\n",
            "Disabled         47.469136\n",
            "Employed         47.800456\n",
            "Medical Leave    48.141204\n",
            "Retired          48.531915\n",
            "Unemployed       48.747087\n",
            "Name: Months Since Policy Inception, dtype: float64\n",
            "El promedio de 'Months Since Policy Inception' es: 48.137959490070806\n"
          ]
        }
      ],
      "source": [
        "EmploymentStatus_MonthsSincePolicyInception = df.groupby('EmploymentStatus')['Months Since Policy Inception'].mean()\n",
        "print(EmploymentStatus_MonthsSincePolicyInception)\n",
        "\n",
        "promedio_months_since_policy_inception = EmploymentStatus_MonthsSincePolicyInception.mean()\n",
        "print(f\"El promedio de 'Months Since Policy Inception' es: {promedio_months_since_policy_inception}\")"
      ]
    },
    {
      "cell_type": "markdown",
      "metadata": {
        "id": "S_pRUmAsZHN_"
      },
      "source": [
        "## Paso 14: Análisis del Total Claim Amount según Policy Type\n",
        "1. Agrupa por `Policy Type` y calcula el Total Claim Amount promedio para cada tipo de póliza.\n",
        "\n",
        "Pregunta: ¿Qué diferencias se observan entre los tipos de póliza y qué podrían implicar en términos de riesgo y eficiencia operativa?"
      ]
    },
    {
      "cell_type": "markdown",
      "source": [
        "Debido a que el monto promedio de los reclamos varia dependiendo del tipo de poliza, se puede concluir que special auto tiene un mayor riesgo y corporate auto un menor riesgo. por lo tanto, la empresa debe tomar en consideracion estas diferencias para la evaluacion del riesgo y para poder optimizar sus operaciones"
      ],
      "metadata": {
        "id": "ML5ByXsCHoEf"
      }
    },
    {
      "cell_type": "code",
      "execution_count": 38,
      "metadata": {
        "id": "0q5ZwE_jZHN_",
        "outputId": "e2dabc9e-dead-4399-a2f3-010d33fca104",
        "colab": {
          "base_uri": "https://localhost:8080/"
        }
      },
      "outputs": [
        {
          "output_type": "stream",
          "name": "stdout",
          "text": [
            "Policy Type\n",
            "Corporate Auto    430.312188\n",
            "Personal Auto     434.828219\n",
            "Special Auto      440.472770\n",
            "Name: Total Claim Amount, dtype: float64\n",
            "El promedio de 'Total Claim Amount' es: 435.2043924587161\n"
          ]
        }
      ],
      "source": [
        "policy_type_total_claim_amount = df.groupby('Policy Type')['Total Claim Amount'].mean()\n",
        "print(policy_type_total_claim_amount)\n",
        "\n",
        "promedio_total_claim_amount = policy_type_total_claim_amount.mean()\n",
        "print(f\"El promedio de 'Total Claim Amount' es: {promedio_total_claim_amount}\")\n"
      ]
    },
    {
      "cell_type": "markdown",
      "metadata": {
        "id": "dv45Mm6LZHN_"
      },
      "source": [
        "## Caso de Negocio: Evaluación de la Inversión en Marketing\n",
        "\n",
        "### Contexto:\n",
        "Una compañía de seguros ha asignado un presupuesto ficticio de **$5,000,000** para campañas de adquisición. El objetivo es evaluar la rentabilidad de la inversión comparando el gasto de marketing ( 50000000) (CAC) con el Customer Lifetime Value (CLV) obtenido.\n",
        "\n",
        "### Tareas:\n",
        "1. Utiliza el CLV promedio obtenido en el Paso 2.\n",
        "2. Calcula el CAC promedio dividiendo el presupuesto de marketing entre el número total de clientes.\n",
        "3. Compara el CAC promedio con el CLV promedio y responde:\n",
        "   - ¿El CAC es inferior al CLV, lo que justificaría la inversión?\n",
        "   - ¿Qué porcentaje del CLV representa el CAC?\n",
        "\n",
        "_Reflexión estratégica: Si el CAC es significativamente menor que el CLV, la inversión en marketing es rentable. De lo contrario, se deberá replantear la estrategia de adquisición._"
      ]
    },
    {
      "cell_type": "code",
      "source": [
        "clv_promedio = df['Customer Lifetime Value'].mean()\n",
        "print(f\"CLV promedio: {clv_promedio}\")"
      ],
      "metadata": {
        "id": "RBRUwb8OcE9P",
        "outputId": "2fd57095-ca49-4c24-d9bf-03256291620a",
        "colab": {
          "base_uri": "https://localhost:8080/"
        }
      },
      "execution_count": 41,
      "outputs": [
        {
          "output_type": "stream",
          "name": "stdout",
          "text": [
            "CLV promedio: 8004.940474987081\n"
          ]
        }
      ]
    },
    {
      "cell_type": "code",
      "source": [
        "presupuesto_marketing = 50000000\n",
        "numero_total_clientes = len(df)\n",
        "\n",
        "cac_promedio = presupuesto_marketing / numero_total_clientes\n",
        "print(f\"CAC promedio: {cac_promedio}\")"
      ],
      "metadata": {
        "id": "x0huXHVpcE5y",
        "outputId": "c8acbb73-ca57-4e3a-a4d6-8104c076daf3",
        "colab": {
          "base_uri": "https://localhost:8080/"
        }
      },
      "execution_count": 42,
      "outputs": [
        {
          "output_type": "stream",
          "name": "stdout",
          "text": [
            "CAC promedio: 5474.052988832932\n"
          ]
        }
      ]
    },
    {
      "cell_type": "code",
      "source": [
        "porcentaje_cac_clv = (cac_promedio / clv_promedio) * 100\n",
        "print(f\"El {porcentaje_cac_clv}% del CLV representa el CAC.\")"
      ],
      "metadata": {
        "id": "2LLYny3xcHvo",
        "outputId": "f795dfda-0fda-41b5-b0ea-388e8c2c1eb9",
        "colab": {
          "base_uri": "https://localhost:8080/"
        }
      },
      "execution_count": 43,
      "outputs": [
        {
          "output_type": "stream",
          "name": "stdout",
          "text": [
            "El 68.38343153128527% del CLV representa el CAC.\n"
          ]
        }
      ]
    },
    {
      "cell_type": "code",
      "source": [],
      "metadata": {
        "id": "w7Z4XhIYcaNq"
      },
      "execution_count": null,
      "outputs": []
    },
    {
      "cell_type": "code",
      "source": [],
      "metadata": {
        "id": "LwTjvOmAcHhU"
      },
      "execution_count": null,
      "outputs": []
    },
    {
      "cell_type": "markdown",
      "source": [
        "### **Bonus:** Teniendo lo anterior en cual es la proporcion de clientes rentables"
      ],
      "metadata": {
        "id": "jxs59vjXa7RK"
      }
    },
    {
      "cell_type": "code",
      "source": [],
      "metadata": {
        "id": "t9RTzcoIazea"
      },
      "execution_count": null,
      "outputs": []
    },
    {
      "cell_type": "markdown",
      "metadata": {
        "id": "ICF1oz4cZHN_"
      },
      "source": [
        "## Conclusiones y Recomendaciones\n",
        "\n",
        "### **Bonus 2:** En no más de un parrafo mencione 3 acciones concretas para mejorar los reusltados de la empresa.\n"
      ]
    },
    {
      "cell_type": "code",
      "source": [],
      "metadata": {
        "id": "N6IpeZWgcb2F"
      },
      "execution_count": null,
      "outputs": []
    }
  ],
  "metadata": {
    "colab": {
      "provenance": []
    },
    "kernelspec": {
      "display_name": "Python 3",
      "language": "python",
      "name": "python3"
    },
    "language_info": {
      "name": "python"
    }
  },
  "nbformat": 4,
  "nbformat_minor": 0
}