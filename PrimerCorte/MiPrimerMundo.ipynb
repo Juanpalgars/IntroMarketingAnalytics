{
  "nbformat": 4,
  "nbformat_minor": 0,
  "metadata": {
    "colab": {
      "provenance": []
    },
    "kernelspec": {
      "name": "python3",
      "display_name": "Python 3"
    },
    "language_info": {
      "name": "python"
    }
  },
  "cells": [
    {
      "cell_type": "code",
      "source": [],
      "metadata": {
        "id": "-93i0Wc7s5cH"
      },
      "execution_count": null,
      "outputs": []
    },
    {
      "cell_type": "markdown",
      "source": [],
      "metadata": {
        "id": "4jv0aZ5es4xT"
      }
    },
    {
      "cell_type": "markdown",
      "source": [
        "HOLA AMIGOS DE YOTUBE"
      ],
      "metadata": {
        "id": "g2Ifeluus7Ko"
      }
    },
    {
      "cell_type": "code",
      "source": [
        "2+2\n"
      ],
      "metadata": {
        "colab": {
          "base_uri": "https://localhost:8080/"
        },
        "id": "R6I4yRUqtDXI",
        "outputId": "8d6efacc-0d4c-4bfd-d546-86ee8e642b3a"
      },
      "execution_count": 1,
      "outputs": [
        {
          "output_type": "execute_result",
          "data": {
            "text/plain": [
              "4"
            ]
          },
          "metadata": {},
          "execution_count": 1
        }
      ]
    },
    {
      "cell_type": "code",
      "source": [
        "print(\"hola mundo\")"
      ],
      "metadata": {
        "colab": {
          "base_uri": "https://localhost:8080/"
        },
        "id": "8Lo-xoIbs4Mk",
        "outputId": "f98c6278-3a0c-465a-ed19-497be60d26b4"
      },
      "execution_count": 3,
      "outputs": [
        {
          "output_type": "stream",
          "name": "stdout",
          "text": [
            "hola mundo\n"
          ]
        }
      ]
    },
    {
      "cell_type": "code",
      "execution_count": null,
      "metadata": {
        "id": "zo_4LzsusgCR"
      },
      "outputs": [],
      "source": []
    }
  ]
}